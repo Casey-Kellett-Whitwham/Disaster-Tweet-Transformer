{
  "nbformat": 4,
  "nbformat_minor": 0,
  "metadata": {
    "colab": {
      "provenance": [],
      "gpuType": "T4"
    },
    "kernelspec": {
      "name": "python3",
      "display_name": "Python 3"
    },
    "language_info": {
      "name": "python"
    },
    "accelerator": "GPU"
  },
  "cells": [
    {
      "cell_type": "code",
      "source": [
        "pip install keras_tuner"
      ],
      "metadata": {
        "colab": {
          "base_uri": "https://localhost:8080/"
        },
        "id": "hGgnodWuvilY",
        "outputId": "24a03d0b-1a43-4359-9fa5-4ca1beb6f578"
      },
      "execution_count": 15,
      "outputs": [
        {
          "output_type": "stream",
          "name": "stdout",
          "text": [
            "Requirement already satisfied: keras_tuner in /usr/local/lib/python3.10/dist-packages (1.4.7)\n",
            "Requirement already satisfied: keras in /usr/local/lib/python3.10/dist-packages (from keras_tuner) (3.5.0)\n",
            "Requirement already satisfied: packaging in /usr/local/lib/python3.10/dist-packages (from keras_tuner) (24.2)\n",
            "Requirement already satisfied: requests in /usr/local/lib/python3.10/dist-packages (from keras_tuner) (2.32.3)\n",
            "Requirement already satisfied: kt-legacy in /usr/local/lib/python3.10/dist-packages (from keras_tuner) (1.0.5)\n",
            "Requirement already satisfied: absl-py in /usr/local/lib/python3.10/dist-packages (from keras->keras_tuner) (1.4.0)\n",
            "Requirement already satisfied: numpy in /usr/local/lib/python3.10/dist-packages (from keras->keras_tuner) (1.26.4)\n",
            "Requirement already satisfied: rich in /usr/local/lib/python3.10/dist-packages (from keras->keras_tuner) (13.9.4)\n",
            "Requirement already satisfied: namex in /usr/local/lib/python3.10/dist-packages (from keras->keras_tuner) (0.0.8)\n",
            "Requirement already satisfied: h5py in /usr/local/lib/python3.10/dist-packages (from keras->keras_tuner) (3.12.1)\n",
            "Requirement already satisfied: optree in /usr/local/lib/python3.10/dist-packages (from keras->keras_tuner) (0.13.1)\n",
            "Requirement already satisfied: ml-dtypes in /usr/local/lib/python3.10/dist-packages (from keras->keras_tuner) (0.4.1)\n",
            "Requirement already satisfied: charset-normalizer<4,>=2 in /usr/local/lib/python3.10/dist-packages (from requests->keras_tuner) (3.4.0)\n",
            "Requirement already satisfied: idna<4,>=2.5 in /usr/local/lib/python3.10/dist-packages (from requests->keras_tuner) (3.10)\n",
            "Requirement already satisfied: urllib3<3,>=1.21.1 in /usr/local/lib/python3.10/dist-packages (from requests->keras_tuner) (2.2.3)\n",
            "Requirement already satisfied: certifi>=2017.4.17 in /usr/local/lib/python3.10/dist-packages (from requests->keras_tuner) (2024.8.30)\n",
            "Requirement already satisfied: typing-extensions>=4.5.0 in /usr/local/lib/python3.10/dist-packages (from optree->keras->keras_tuner) (4.12.2)\n",
            "Requirement already satisfied: markdown-it-py>=2.2.0 in /usr/local/lib/python3.10/dist-packages (from rich->keras->keras_tuner) (3.0.0)\n",
            "Requirement already satisfied: pygments<3.0.0,>=2.13.0 in /usr/local/lib/python3.10/dist-packages (from rich->keras->keras_tuner) (2.18.0)\n",
            "Requirement already satisfied: mdurl~=0.1 in /usr/local/lib/python3.10/dist-packages (from markdown-it-py>=2.2.0->rich->keras->keras_tuner) (0.1.2)\n"
          ]
        }
      ]
    },
    {
      "cell_type": "code",
      "execution_count": 16,
      "metadata": {
        "id": "yX1hCC1HuT_U"
      },
      "outputs": [],
      "source": [
        "import pandas as pd\n",
        "import numpy as np\n",
        "import tensorflow as tf\n",
        "from tensorflow.keras import layers\n",
        "from tensorflow.keras.preprocessing.text import Tokenizer\n",
        "from tensorflow.keras.preprocessing.sequence import pad_sequences\n",
        "import keras_tuner as kt\n",
        "from sklearn.model_selection import train_test_split"
      ]
    },
    {
      "cell_type": "markdown",
      "source": [
        "---\n",
        "\n",
        "Text Cleaning\n",
        "\n",
        "---"
      ],
      "metadata": {
        "id": "13fLmUg0LOSM"
      }
    },
    {
      "cell_type": "code",
      "source": [
        "def dataprep(df):\n",
        "    df['text'] =  df['text'].astype(str)\n",
        "    df['text'] = df['text'].str.replace(r\"[/'-]\", ' ', regex=True)\n",
        "    df['text'] =  df['text'].str.replace(r\"&\", ' & ', regex=True)\n",
        "    df['text'] =  df['text'].str.replace(r'[?!.,\"#$%\\'()*+-/:;<=>@[\\\\]^_`{|}~“”’]', '', regex=True)\n",
        "    df['text'] =  df['text'].str.replace(r\"@[\\w]+\", '', regex=True)\n",
        "    df['text'] =  df['text'].str.replace(r\"http[s]?://\\S+\", '', regex=True)\n",
        "\n",
        "    return df\n"
      ],
      "metadata": {
        "id": "VWaQ1ETOKSDk"
      },
      "execution_count": 17,
      "outputs": []
    },
    {
      "cell_type": "markdown",
      "source": [
        "\n",
        "\n",
        "---\n",
        "\n",
        "\n",
        "Don't ask me to explain, stole the function from someone else\n",
        "\n",
        "\n",
        "\n",
        "---\n",
        "\n"
      ],
      "metadata": {
        "id": "jNVtWK00DSxG"
      }
    },
    {
      "cell_type": "code",
      "source": [
        "def positional_encoding(position, d_model):\n",
        "    angle_rads = tf.range(position, dtype=tf.float32)[:, tf.newaxis] / tf.pow(10000.0, (2 * (tf.range(d_model, dtype=tf.float32)[tf.newaxis, :] // 2)) / tf.cast(d_model, tf.float32))\n",
        "    angle_rads_sin = tf.sin(angle_rads[:, 0::2])\n",
        "    angle_rads_cos = tf.cos(angle_rads[:, 1::2])\n",
        "    angle_rads_updated = tf.concat([angle_rads_sin, angle_rads_cos], axis=-1)\n",
        "    pos_encoding = angle_rads_updated[tf.newaxis, ...]\n",
        "    return tf.cast(pos_encoding, dtype=tf.float32)\n"
      ],
      "metadata": {
        "id": "KDk4Ml3Au3WI"
      },
      "execution_count": 18,
      "outputs": []
    },
    {
      "cell_type": "markdown",
      "source": [
        "\n",
        "---\n",
        "\n",
        "\n",
        "Obtaining the max length of a tweet - Used for Padding, Input Layer Shape and Positional Encoding\n",
        "\n",
        "\n",
        "\n",
        "---\n"
      ],
      "metadata": {
        "id": "RBHxKqjjDc-7"
      }
    },
    {
      "cell_type": "code",
      "source": [
        "def determine_maxlen(sequences, percentile=99):\n",
        "    seq_lengths = [len(seq) for seq in sequences]\n",
        "    maxlen = int(np.percentile(seq_lengths, percentile))\n",
        "\n",
        "    return maxlen"
      ],
      "metadata": {
        "id": "GvUxJ4KkzkaO"
      },
      "execution_count": 19,
      "outputs": []
    },
    {
      "cell_type": "markdown",
      "source": [
        "\n",
        "\n",
        "---\n",
        "\n",
        "\n",
        "\n",
        "**Build Function Breakdown**\n",
        "\n",
        "\n",
        "---\n",
        "\n",
        "\n",
        "*  Step 1 - Setup Hyperparam options\n",
        "*  Step 2 - Update optimizer based on selection\n",
        "*  Step 3 - Create input Layer\n",
        "*  Step 4 - Converts tokens into dense vectors\n",
        "*  Step 5 - Apply positional encoding\n",
        "*  Step 6 - Add sentence context to words (Self-Attention)\n",
        "*  Step 7 - Dropout to avoid overfitting\n",
        "*  Step 8 - Pool (Equivalent of flatten - Groups all vectors into 1) and Normalize\n",
        "*  Step 9 - Add dense and dropout layers\n",
        "*  Step 10 - Create sigmoid (binary) output layer\n",
        "*  Step 11 - Compile the model"
      ],
      "metadata": {
        "id": "UAE4N-EWBpPX"
      }
    },
    {
      "cell_type": "code",
      "source": [
        "def build_model(hp):\n",
        "    max_length = 28\n",
        "    d_model = 128\n",
        "\n",
        "    # Step 1\n",
        "    num_heads = hp.Int('num_heads', min_value=2, max_value=4, step=1)\n",
        "    key_dim = hp.Int('key_dim', min_value=32, max_value=64, step=8)\n",
        "    dense_units = hp.Int('dense_units', min_value=64, max_value=128, step=8)\n",
        "    dropout_rate = hp.Float('dropout_rate', min_value=0.2, max_value=0.4, step=0.05)\n",
        "    optimizer = hp.Choice(\"optimizer\", values=[\"RMSprop\", \"adam\", \"sgd\"])\n",
        "\n",
        "    # Step 2\n",
        "    if optimizer == \"sgd\":\n",
        "        optimizer = tf.keras.optimizers.SGD()\n",
        "    elif optimizer == \"RMSprop\":\n",
        "        optimizer = tf.keras.optimizers.RMSprop()\n",
        "    else:\n",
        "        optimizer = tf.keras.optimizers.Adam()\n",
        "\n",
        "    # Step 3\n",
        "    inputs = layers.Input(shape=(max_length,))\n",
        "\n",
        "    # Step 4\n",
        "    embedding = layers.Embedding(input_dim=len(tokenizer.word_index) + 1,\n",
        "                                 output_dim=d_model,\n",
        "                                 input_length=max_length)(inputs)\n",
        "\n",
        "    # Step 5\n",
        "    positional_encoding_output = positional_encoding(max_length, d_model)\n",
        "    embedding = embedding + positional_encoding_output\n",
        "\n",
        "    # Step 6\n",
        "    transformer_block = layers.MultiHeadAttention(num_heads=num_heads, key_dim=key_dim)(embedding, embedding)\n",
        "\n",
        "    # Step 7\n",
        "    transformer_block = layers.Dropout(rate=dropout_rate)(transformer_block)\n",
        "\n",
        "    # Step 8\n",
        "    transformer_block = layers.LayerNormalization()(transformer_block)\n",
        "    x = layers.GlobalAveragePooling1D()(transformer_block)\n",
        "\n",
        "    # Step 9\n",
        "    x = layers.Dense(units=dense_units, activation = hp.Choice(\"activation\", values = [\"relu\", \"tanh\", \"selu\"]))(x)\n",
        "    x = layers.Dropout(rate=dropout_rate)(x)\n",
        "\n",
        "    # Step 10\n",
        "    outputs = layers.Dense(1, activation='sigmoid')(x)\n",
        "\n",
        "    # Step 11\n",
        "    model = tf.keras.models.Model(inputs, outputs)\n",
        "    model.compile(optimizer=optimizer, loss='binary_crossentropy', metrics=['accuracy'])\n",
        "\n",
        "    return model\n"
      ],
      "metadata": {
        "id": "EUnILlY_uvNi"
      },
      "execution_count": 20,
      "outputs": []
    },
    {
      "cell_type": "markdown",
      "source": [
        "\n",
        "\n",
        "---\n",
        "\n",
        "Load Data\n",
        "\n",
        "---\n",
        "\n"
      ],
      "metadata": {
        "id": "wh-PXeNWD0Vf"
      }
    },
    {
      "cell_type": "code",
      "source": [
        "train_df = pd.read_csv('train.csv')\n",
        "test_df = pd.read_csv('test.csv')\n",
        "train_df = dataprep(train_df)\n",
        "train_df = dataprep(train_df)"
      ],
      "metadata": {
        "id": "921Y10Y7uzkR"
      },
      "execution_count": 21,
      "outputs": []
    },
    {
      "cell_type": "markdown",
      "source": [
        "\n",
        "\n",
        "---\n",
        "\n",
        "Sample dataset to see if cleaning worked\n",
        "\n",
        "---\n",
        "\n",
        "\n"
      ],
      "metadata": {
        "id": "YuQdwH3PD22L"
      }
    },
    {
      "cell_type": "code",
      "source": [
        "train_df.sample(10)"
      ],
      "metadata": {
        "id": "Bm5IapdAu9LG",
        "colab": {
          "base_uri": "https://localhost:8080/",
          "height": 363
        },
        "outputId": "4bdc6115-4786-46c9-f4e6-c02cfa698307"
      },
      "execution_count": 22,
      "outputs": [
        {
          "output_type": "execute_result",
          "data": {
            "text/plain": [
              "        id              keyword                        location  \\\n",
              "606    875            bioterror                             NaN   \n",
              "2778  3995          devastation                Mount Vernon, NY   \n",
              "4882  6951             massacre                     Ashburn, VA   \n",
              "3941  5603                flood                        New York   \n",
              "2765  3973          devastation                    Vancouver BC   \n",
              "2938  4221              drowned                 IG: AyshBanaysh   \n",
              "1049  1518          body%20bags                   southwest, Tx   \n",
              "141    203  airplane%20accident         Spain but Opa-Locka, FL   \n",
              "619    892         bioterrorism  Netherlands,Amsterdam-Virtual    \n",
              "1941  2792               curfew             Adelaide, Australia   \n",
              "\n",
              "                                                   text  target  \n",
              "606   FedEx no longer to transport bioterror germs i...       0  \n",
              "2778  Devastation: coming to a  and find the  closed...       0  \n",
              "4882  I just bought tickets to DEATH BED   DUDE BRO ...       0  \n",
              "3941  Spot Flood Combo 53inch 300W Curved Cree LED W...       0  \n",
              "2765  Is This Country Latin America s Next  Argentin...       0  \n",
              "2938  Sometimes logic gets drowned out in emotion bu...       0  \n",
              "1049                Shoot shit up till we see body bags       0  \n",
              "141   family members of osama bin laden have died in...       1  \n",
              "619   In Lies We Trust #dvd CIA Hollywood and Bioter...       0  \n",
              "1941  INFO U. CLD: SCT012 BKN025. EXP INST APCH. RWY...       0  "
            ],
            "text/html": [
              "\n",
              "  <div id=\"df-5331dfd8-d33c-401b-ae39-7f965427a966\" class=\"colab-df-container\">\n",
              "    <div>\n",
              "<style scoped>\n",
              "    .dataframe tbody tr th:only-of-type {\n",
              "        vertical-align: middle;\n",
              "    }\n",
              "\n",
              "    .dataframe tbody tr th {\n",
              "        vertical-align: top;\n",
              "    }\n",
              "\n",
              "    .dataframe thead th {\n",
              "        text-align: right;\n",
              "    }\n",
              "</style>\n",
              "<table border=\"1\" class=\"dataframe\">\n",
              "  <thead>\n",
              "    <tr style=\"text-align: right;\">\n",
              "      <th></th>\n",
              "      <th>id</th>\n",
              "      <th>keyword</th>\n",
              "      <th>location</th>\n",
              "      <th>text</th>\n",
              "      <th>target</th>\n",
              "    </tr>\n",
              "  </thead>\n",
              "  <tbody>\n",
              "    <tr>\n",
              "      <th>606</th>\n",
              "      <td>875</td>\n",
              "      <td>bioterror</td>\n",
              "      <td>NaN</td>\n",
              "      <td>FedEx no longer to transport bioterror germs i...</td>\n",
              "      <td>0</td>\n",
              "    </tr>\n",
              "    <tr>\n",
              "      <th>2778</th>\n",
              "      <td>3995</td>\n",
              "      <td>devastation</td>\n",
              "      <td>Mount Vernon, NY</td>\n",
              "      <td>Devastation: coming to a  and find the  closed...</td>\n",
              "      <td>0</td>\n",
              "    </tr>\n",
              "    <tr>\n",
              "      <th>4882</th>\n",
              "      <td>6951</td>\n",
              "      <td>massacre</td>\n",
              "      <td>Ashburn, VA</td>\n",
              "      <td>I just bought tickets to DEATH BED   DUDE BRO ...</td>\n",
              "      <td>0</td>\n",
              "    </tr>\n",
              "    <tr>\n",
              "      <th>3941</th>\n",
              "      <td>5603</td>\n",
              "      <td>flood</td>\n",
              "      <td>New York</td>\n",
              "      <td>Spot Flood Combo 53inch 300W Curved Cree LED W...</td>\n",
              "      <td>0</td>\n",
              "    </tr>\n",
              "    <tr>\n",
              "      <th>2765</th>\n",
              "      <td>3973</td>\n",
              "      <td>devastation</td>\n",
              "      <td>Vancouver BC</td>\n",
              "      <td>Is This Country Latin America s Next  Argentin...</td>\n",
              "      <td>0</td>\n",
              "    </tr>\n",
              "    <tr>\n",
              "      <th>2938</th>\n",
              "      <td>4221</td>\n",
              "      <td>drowned</td>\n",
              "      <td>IG: AyshBanaysh</td>\n",
              "      <td>Sometimes logic gets drowned out in emotion bu...</td>\n",
              "      <td>0</td>\n",
              "    </tr>\n",
              "    <tr>\n",
              "      <th>1049</th>\n",
              "      <td>1518</td>\n",
              "      <td>body%20bags</td>\n",
              "      <td>southwest, Tx</td>\n",
              "      <td>Shoot shit up till we see body bags</td>\n",
              "      <td>0</td>\n",
              "    </tr>\n",
              "    <tr>\n",
              "      <th>141</th>\n",
              "      <td>203</td>\n",
              "      <td>airplane%20accident</td>\n",
              "      <td>Spain but Opa-Locka, FL</td>\n",
              "      <td>family members of osama bin laden have died in...</td>\n",
              "      <td>1</td>\n",
              "    </tr>\n",
              "    <tr>\n",
              "      <th>619</th>\n",
              "      <td>892</td>\n",
              "      <td>bioterrorism</td>\n",
              "      <td>Netherlands,Amsterdam-Virtual</td>\n",
              "      <td>In Lies We Trust #dvd CIA Hollywood and Bioter...</td>\n",
              "      <td>0</td>\n",
              "    </tr>\n",
              "    <tr>\n",
              "      <th>1941</th>\n",
              "      <td>2792</td>\n",
              "      <td>curfew</td>\n",
              "      <td>Adelaide, Australia</td>\n",
              "      <td>INFO U. CLD: SCT012 BKN025. EXP INST APCH. RWY...</td>\n",
              "      <td>0</td>\n",
              "    </tr>\n",
              "  </tbody>\n",
              "</table>\n",
              "</div>\n",
              "    <div class=\"colab-df-buttons\">\n",
              "\n",
              "  <div class=\"colab-df-container\">\n",
              "    <button class=\"colab-df-convert\" onclick=\"convertToInteractive('df-5331dfd8-d33c-401b-ae39-7f965427a966')\"\n",
              "            title=\"Convert this dataframe to an interactive table.\"\n",
              "            style=\"display:none;\">\n",
              "\n",
              "  <svg xmlns=\"http://www.w3.org/2000/svg\" height=\"24px\" viewBox=\"0 -960 960 960\">\n",
              "    <path d=\"M120-120v-720h720v720H120Zm60-500h600v-160H180v160Zm220 220h160v-160H400v160Zm0 220h160v-160H400v160ZM180-400h160v-160H180v160Zm440 0h160v-160H620v160ZM180-180h160v-160H180v160Zm440 0h160v-160H620v160Z\"/>\n",
              "  </svg>\n",
              "    </button>\n",
              "\n",
              "  <style>\n",
              "    .colab-df-container {\n",
              "      display:flex;\n",
              "      gap: 12px;\n",
              "    }\n",
              "\n",
              "    .colab-df-convert {\n",
              "      background-color: #E8F0FE;\n",
              "      border: none;\n",
              "      border-radius: 50%;\n",
              "      cursor: pointer;\n",
              "      display: none;\n",
              "      fill: #1967D2;\n",
              "      height: 32px;\n",
              "      padding: 0 0 0 0;\n",
              "      width: 32px;\n",
              "    }\n",
              "\n",
              "    .colab-df-convert:hover {\n",
              "      background-color: #E2EBFA;\n",
              "      box-shadow: 0px 1px 2px rgba(60, 64, 67, 0.3), 0px 1px 3px 1px rgba(60, 64, 67, 0.15);\n",
              "      fill: #174EA6;\n",
              "    }\n",
              "\n",
              "    .colab-df-buttons div {\n",
              "      margin-bottom: 4px;\n",
              "    }\n",
              "\n",
              "    [theme=dark] .colab-df-convert {\n",
              "      background-color: #3B4455;\n",
              "      fill: #D2E3FC;\n",
              "    }\n",
              "\n",
              "    [theme=dark] .colab-df-convert:hover {\n",
              "      background-color: #434B5C;\n",
              "      box-shadow: 0px 1px 3px 1px rgba(0, 0, 0, 0.15);\n",
              "      filter: drop-shadow(0px 1px 2px rgba(0, 0, 0, 0.3));\n",
              "      fill: #FFFFFF;\n",
              "    }\n",
              "  </style>\n",
              "\n",
              "    <script>\n",
              "      const buttonEl =\n",
              "        document.querySelector('#df-5331dfd8-d33c-401b-ae39-7f965427a966 button.colab-df-convert');\n",
              "      buttonEl.style.display =\n",
              "        google.colab.kernel.accessAllowed ? 'block' : 'none';\n",
              "\n",
              "      async function convertToInteractive(key) {\n",
              "        const element = document.querySelector('#df-5331dfd8-d33c-401b-ae39-7f965427a966');\n",
              "        const dataTable =\n",
              "          await google.colab.kernel.invokeFunction('convertToInteractive',\n",
              "                                                    [key], {});\n",
              "        if (!dataTable) return;\n",
              "\n",
              "        const docLinkHtml = 'Like what you see? Visit the ' +\n",
              "          '<a target=\"_blank\" href=https://colab.research.google.com/notebooks/data_table.ipynb>data table notebook</a>'\n",
              "          + ' to learn more about interactive tables.';\n",
              "        element.innerHTML = '';\n",
              "        dataTable['output_type'] = 'display_data';\n",
              "        await google.colab.output.renderOutput(dataTable, element);\n",
              "        const docLink = document.createElement('div');\n",
              "        docLink.innerHTML = docLinkHtml;\n",
              "        element.appendChild(docLink);\n",
              "      }\n",
              "    </script>\n",
              "  </div>\n",
              "\n",
              "\n",
              "<div id=\"df-fd5e6a42-dfa4-4b47-ba44-a809148b4bfb\">\n",
              "  <button class=\"colab-df-quickchart\" onclick=\"quickchart('df-fd5e6a42-dfa4-4b47-ba44-a809148b4bfb')\"\n",
              "            title=\"Suggest charts\"\n",
              "            style=\"display:none;\">\n",
              "\n",
              "<svg xmlns=\"http://www.w3.org/2000/svg\" height=\"24px\"viewBox=\"0 0 24 24\"\n",
              "     width=\"24px\">\n",
              "    <g>\n",
              "        <path d=\"M19 3H5c-1.1 0-2 .9-2 2v14c0 1.1.9 2 2 2h14c1.1 0 2-.9 2-2V5c0-1.1-.9-2-2-2zM9 17H7v-7h2v7zm4 0h-2V7h2v10zm4 0h-2v-4h2v4z\"/>\n",
              "    </g>\n",
              "</svg>\n",
              "  </button>\n",
              "\n",
              "<style>\n",
              "  .colab-df-quickchart {\n",
              "      --bg-color: #E8F0FE;\n",
              "      --fill-color: #1967D2;\n",
              "      --hover-bg-color: #E2EBFA;\n",
              "      --hover-fill-color: #174EA6;\n",
              "      --disabled-fill-color: #AAA;\n",
              "      --disabled-bg-color: #DDD;\n",
              "  }\n",
              "\n",
              "  [theme=dark] .colab-df-quickchart {\n",
              "      --bg-color: #3B4455;\n",
              "      --fill-color: #D2E3FC;\n",
              "      --hover-bg-color: #434B5C;\n",
              "      --hover-fill-color: #FFFFFF;\n",
              "      --disabled-bg-color: #3B4455;\n",
              "      --disabled-fill-color: #666;\n",
              "  }\n",
              "\n",
              "  .colab-df-quickchart {\n",
              "    background-color: var(--bg-color);\n",
              "    border: none;\n",
              "    border-radius: 50%;\n",
              "    cursor: pointer;\n",
              "    display: none;\n",
              "    fill: var(--fill-color);\n",
              "    height: 32px;\n",
              "    padding: 0;\n",
              "    width: 32px;\n",
              "  }\n",
              "\n",
              "  .colab-df-quickchart:hover {\n",
              "    background-color: var(--hover-bg-color);\n",
              "    box-shadow: 0 1px 2px rgba(60, 64, 67, 0.3), 0 1px 3px 1px rgba(60, 64, 67, 0.15);\n",
              "    fill: var(--button-hover-fill-color);\n",
              "  }\n",
              "\n",
              "  .colab-df-quickchart-complete:disabled,\n",
              "  .colab-df-quickchart-complete:disabled:hover {\n",
              "    background-color: var(--disabled-bg-color);\n",
              "    fill: var(--disabled-fill-color);\n",
              "    box-shadow: none;\n",
              "  }\n",
              "\n",
              "  .colab-df-spinner {\n",
              "    border: 2px solid var(--fill-color);\n",
              "    border-color: transparent;\n",
              "    border-bottom-color: var(--fill-color);\n",
              "    animation:\n",
              "      spin 1s steps(1) infinite;\n",
              "  }\n",
              "\n",
              "  @keyframes spin {\n",
              "    0% {\n",
              "      border-color: transparent;\n",
              "      border-bottom-color: var(--fill-color);\n",
              "      border-left-color: var(--fill-color);\n",
              "    }\n",
              "    20% {\n",
              "      border-color: transparent;\n",
              "      border-left-color: var(--fill-color);\n",
              "      border-top-color: var(--fill-color);\n",
              "    }\n",
              "    30% {\n",
              "      border-color: transparent;\n",
              "      border-left-color: var(--fill-color);\n",
              "      border-top-color: var(--fill-color);\n",
              "      border-right-color: var(--fill-color);\n",
              "    }\n",
              "    40% {\n",
              "      border-color: transparent;\n",
              "      border-right-color: var(--fill-color);\n",
              "      border-top-color: var(--fill-color);\n",
              "    }\n",
              "    60% {\n",
              "      border-color: transparent;\n",
              "      border-right-color: var(--fill-color);\n",
              "    }\n",
              "    80% {\n",
              "      border-color: transparent;\n",
              "      border-right-color: var(--fill-color);\n",
              "      border-bottom-color: var(--fill-color);\n",
              "    }\n",
              "    90% {\n",
              "      border-color: transparent;\n",
              "      border-bottom-color: var(--fill-color);\n",
              "    }\n",
              "  }\n",
              "</style>\n",
              "\n",
              "  <script>\n",
              "    async function quickchart(key) {\n",
              "      const quickchartButtonEl =\n",
              "        document.querySelector('#' + key + ' button');\n",
              "      quickchartButtonEl.disabled = true;  // To prevent multiple clicks.\n",
              "      quickchartButtonEl.classList.add('colab-df-spinner');\n",
              "      try {\n",
              "        const charts = await google.colab.kernel.invokeFunction(\n",
              "            'suggestCharts', [key], {});\n",
              "      } catch (error) {\n",
              "        console.error('Error during call to suggestCharts:', error);\n",
              "      }\n",
              "      quickchartButtonEl.classList.remove('colab-df-spinner');\n",
              "      quickchartButtonEl.classList.add('colab-df-quickchart-complete');\n",
              "    }\n",
              "    (() => {\n",
              "      let quickchartButtonEl =\n",
              "        document.querySelector('#df-fd5e6a42-dfa4-4b47-ba44-a809148b4bfb button');\n",
              "      quickchartButtonEl.style.display =\n",
              "        google.colab.kernel.accessAllowed ? 'block' : 'none';\n",
              "    })();\n",
              "  </script>\n",
              "</div>\n",
              "\n",
              "    </div>\n",
              "  </div>\n"
            ],
            "application/vnd.google.colaboratory.intrinsic+json": {
              "type": "dataframe",
              "summary": "{\n  \"name\": \"train_df\",\n  \"rows\": 10,\n  \"fields\": [\n    {\n      \"column\": \"id\",\n      \"properties\": {\n        \"dtype\": \"number\",\n        \"std\": 2229,\n        \"min\": 203,\n        \"max\": 6951,\n        \"num_unique_values\": 10,\n        \"samples\": [\n          892,\n          3995,\n          4221\n        ],\n        \"semantic_type\": \"\",\n        \"description\": \"\"\n      }\n    },\n    {\n      \"column\": \"keyword\",\n      \"properties\": {\n        \"dtype\": \"string\",\n        \"num_unique_values\": 9,\n        \"samples\": [\n          \"bioterrorism\",\n          \"devastation\",\n          \"body%20bags\"\n        ],\n        \"semantic_type\": \"\",\n        \"description\": \"\"\n      }\n    },\n    {\n      \"column\": \"location\",\n      \"properties\": {\n        \"dtype\": \"string\",\n        \"num_unique_values\": 9,\n        \"samples\": [\n          \"Netherlands,Amsterdam-Virtual \",\n          \"Ashburn, VA\",\n          \"southwest, Tx\"\n        ],\n        \"semantic_type\": \"\",\n        \"description\": \"\"\n      }\n    },\n    {\n      \"column\": \"text\",\n      \"properties\": {\n        \"dtype\": \"string\",\n        \"num_unique_values\": 10,\n        \"samples\": [\n          \"In Lies We Trust #dvd CIA Hollywood and Bioterrorism Len Horowitz Vaccines Nwo http:  t.co 6PAGJqfbzK http:  t.co qzizElxbyr\",\n          \"Devastation: coming to a  and find the  closed ?? #momneedscoffee #asap #iwontmakeit\",\n          \"Sometimes logic gets drowned out in emotion but it s gotta surface at some point.\"\n        ],\n        \"semantic_type\": \"\",\n        \"description\": \"\"\n      }\n    },\n    {\n      \"column\": \"target\",\n      \"properties\": {\n        \"dtype\": \"number\",\n        \"std\": 0,\n        \"min\": 0,\n        \"max\": 1,\n        \"num_unique_values\": 2,\n        \"samples\": [\n          1,\n          0\n        ],\n        \"semantic_type\": \"\",\n        \"description\": \"\"\n      }\n    }\n  ]\n}"
            }
          },
          "metadata": {},
          "execution_count": 22
        }
      ]
    },
    {
      "cell_type": "markdown",
      "source": [
        "\n",
        "\n",
        "---\n",
        "\n",
        "\n",
        "\n",
        "Convert Text to Ints\n",
        "\n",
        "\n",
        "\n",
        "---\n",
        "\n"
      ],
      "metadata": {
        "id": "fpUP4aRtEJPU"
      }
    },
    {
      "cell_type": "code",
      "source": [
        "tokenizer = Tokenizer(oov_token=\"<OOV>\")\n",
        "tokenizer.fit_on_texts(train_df['text'])"
      ],
      "metadata": {
        "id": "G7WYP3yOEJD_"
      },
      "execution_count": 23,
      "outputs": []
    },
    {
      "cell_type": "markdown",
      "source": [
        "---\n",
        "\n",
        "Converts Tokens to Sequences of tokens\n",
        "\n",
        "---"
      ],
      "metadata": {
        "id": "umryHRNyEZT1"
      }
    },
    {
      "cell_type": "code",
      "source": [
        "X_train = tokenizer.texts_to_sequences(train_df['text'])\n",
        "X_test = tokenizer.texts_to_sequences(test_df['text'])"
      ],
      "metadata": {
        "id": "WfXn6jU5EYnY"
      },
      "execution_count": 24,
      "outputs": []
    },
    {
      "cell_type": "markdown",
      "source": [
        "---\n",
        "\n",
        "Determine Max Length of a Tweet\n",
        "\n",
        "---"
      ],
      "metadata": {
        "id": "FWF43h4JEe1c"
      }
    },
    {
      "cell_type": "code",
      "source": [
        "maxlen = determine_maxlen(X_train, percentile=99)\n",
        "print(maxlen)"
      ],
      "metadata": {
        "id": "wC_xRvDhEekB",
        "colab": {
          "base_uri": "https://localhost:8080/"
        },
        "outputId": "55794cbe-c4bd-4727-cc22-b4cd18ec2b71"
      },
      "execution_count": 25,
      "outputs": [
        {
          "output_type": "stream",
          "name": "stdout",
          "text": [
            "28\n"
          ]
        }
      ]
    },
    {
      "cell_type": "markdown",
      "source": [
        "---\n",
        "\n",
        "Add padding to ensure all token sequences are the same shape.\n",
        "\n",
        "---"
      ],
      "metadata": {
        "id": "kjiOGWO0Elsy"
      }
    },
    {
      "cell_type": "code",
      "source": [
        "X_train = pad_sequences(X_train, padding='post', maxlen=maxlen)\n",
        "X_test = pad_sequences(X_test, padding='post', maxlen=maxlen)"
      ],
      "metadata": {
        "id": "rzvNooe6vBps"
      },
      "execution_count": 26,
      "outputs": []
    },
    {
      "cell_type": "markdown",
      "source": [
        "---\n",
        "\n",
        "Split Train and Dev Sets\n",
        "\n",
        "---"
      ],
      "metadata": {
        "id": "PzfQ_thiEwUR"
      }
    },
    {
      "cell_type": "code",
      "source": [
        "y_train = train_df['target'].values\n",
        "X_train, X_dev, y_train, y_dev = train_test_split(X_train, y_train, test_size=0.2, random_state=42)"
      ],
      "metadata": {
        "id": "G2rRd2-CvF31"
      },
      "execution_count": 27,
      "outputs": []
    },
    {
      "cell_type": "markdown",
      "source": [
        "---\n",
        "\n",
        "Run Hyperband Search on data\n",
        "\n",
        "---"
      ],
      "metadata": {
        "id": "oWjtzjxOEzUy"
      }
    },
    {
      "cell_type": "code",
      "source": [
        "\n",
        "out_folder = \"Transformer_DNN\"\n",
        "hyp_search_folder = \"hyperband_search\"\n",
        "batch_sizes = [64, 128, 256, 512, 1024, 2048]\n",
        "\n",
        "hyperband = kt.Hyperband(\n",
        "    build_model,\n",
        "    objective='val_accuracy',\n",
        "    max_epochs=15,\n",
        "    factor=2,\n",
        "    hyperband_iterations=3,\n",
        "    directory=out_folder,\n",
        "    project_name=hyp_search_folder,\n",
        "    seed=42\n",
        ")\n",
        "\n",
        "\n",
        "hyperband.search(X_train, y_train, epochs=5, validation_data=(X_dev, y_dev))\n",
        "\n",
        "\n",
        "best_model = hyperband.get_best_models(num_models=1)[0]\n",
        "\n",
        "for batch_size in batch_sizes:\n",
        "    print(f\"Evaluating batch size {batch_size}\")\n",
        "    loss, mape = best_model.evaluate(X_dev, y_dev, batch_size=batch_size)\n",
        "    print(f\"Loss: {loss}, MAPE: {mape}\")\n"
      ],
      "metadata": {
        "id": "pVpKzq6LvICD",
        "colab": {
          "base_uri": "https://localhost:8080/"
        },
        "outputId": "197dab5c-f14b-4ae8-ccb9-8f97d8fe4479"
      },
      "execution_count": null,
      "outputs": [
        {
          "output_type": "stream",
          "name": "stdout",
          "text": [
            "Trial 15 Complete [00h 00m 14s]\n",
            "val_accuracy: 0.7754431962966919\n",
            "\n",
            "Best val_accuracy So Far: 0.803676962852478\n",
            "Total elapsed time: 00h 03m 41s\n",
            "\n",
            "Search: Running Trial #16\n",
            "\n",
            "Value             |Best Value So Far |Hyperparameter\n",
            "2                 |2                 |num_heads\n",
            "32                |32                |key_dim\n",
            "88                |88                |dense_units\n",
            "0.4               |0.4               |dropout_rate\n",
            "adam              |adam              |optimizer\n",
            "selu              |selu              |activation\n",
            "8                 |4                 |tuner/epochs\n",
            "4                 |2                 |tuner/initial_epoch\n",
            "3                 |3                 |tuner/bracket\n",
            "2                 |1                 |tuner/round\n",
            "0011              |0008              |tuner/trial_id\n",
            "\n",
            "Epoch 5/8\n",
            "\u001b[1m191/191\u001b[0m \u001b[32m━━━━━━━━━━━━━━━━━━━━\u001b[0m\u001b[37m\u001b[0m \u001b[1m9s\u001b[0m 22ms/step - accuracy: 0.9212 - loss: 0.2137 - val_accuracy: 0.7945 - val_loss: 0.6492\n"
          ]
        }
      ]
    },
    {
      "cell_type": "markdown",
      "source": [
        "---\n",
        "\n",
        "Print Summary of Search for param optimization\n",
        "\n",
        "---"
      ],
      "metadata": {
        "id": "5KBmohVbE43j"
      }
    },
    {
      "cell_type": "code",
      "source": [
        "random_search.search_space_summary()\n",
        "\n",
        "random_search.results_summary()"
      ],
      "metadata": {
        "id": "YYV7bsY86NO5"
      },
      "execution_count": null,
      "outputs": []
    },
    {
      "cell_type": "markdown",
      "source": [
        "---\n",
        "\n"
      ],
      "metadata": {
        "id": "_Ym3qAK-E_b9"
      }
    },
    {
      "cell_type": "code",
      "source": [
        "best_model.build(input_shape=(None, 28))\n",
        "best_model.summary()\n",
        "\n",
        "history = best_model.fit(X_train, y_train,epochs=100,batch_size=256,validation_data=(X_dev, y_dev))\n"
      ],
      "metadata": {
        "id": "i6CkzWBKvKdX"
      },
      "execution_count": null,
      "outputs": []
    },
    {
      "cell_type": "code",
      "source": [
        "predictions = best_model.predict(X_test)\n",
        "predictions = (predictions > 0.5).astype(int)"
      ],
      "metadata": {
        "id": "IcnQkw76vMU4"
      },
      "execution_count": null,
      "outputs": []
    },
    {
      "cell_type": "code",
      "source": [
        "submission = pd.DataFrame({'id': test_df['id'], 'target': predictions.flatten()})\n",
        "submission.to_csv('submission.csv', index=False)"
      ],
      "metadata": {
        "id": "cegvmiYkvODn"
      },
      "execution_count": null,
      "outputs": []
    }
  ]
}